{
 "cells": [
  {
   "cell_type": "markdown",
   "id": "b37cdd5a-48ba-48fa-a58d-c0db1b271533",
   "metadata": {},
   "source": [
    "## The Representation of Women in Film -- A Data Science Tutorial by Michelle Badalov \n",
    "\n",
    "Women's presence in the performing arts dates back to the early 1660s, however the history of theater goes as far back as 532 BC when the Greeks began putting on tragedies. 'What is the reason for this temporal gap?' one might ask. Well, women were not allowed on the stage for many centuries because it was considered \"dangerous\". In fact, men were responsible for portraying both male and female characters all that time (NC Theatre, 2015). Fast forward to 2022, and we see that women are still not offered equal opportunity in the performing arts. \n",
    "\n",
    "It is no question that the representation of women in film is deeply flawed and biased. Despite the fact that half of the world is comprised of women, an overwhelming amount of films lack female roles and even fewer accurately portray the female experience. \n",
    "\n",
    "An interesting measure of this representation uses the Bechdel Test (BT). This test was coined by Alison Bechdel's comic in a 1985 strip called 'The Rule'. For more information on its origin, one can find an insightful introduction to the comic on feministfrequency.com.\n",
    "\n",
    "<img src=\"BechdelComic.jpeg\" width=\"500\" height=\"340\">"
   ]
  },
  {
   "cell_type": "markdown",
   "id": "c9312cc3-370c-4a45-b6e9-083b6d8744d6",
   "metadata": {},
   "source": [
    "According to the comic, to pass the Bechdel Test, a film must satisfy three criteria:\n",
    "\n",
    "1. The film has at least two women in it, \n",
    "2. the women in the film must speak to each other at least once, \n",
    "3. the conversation between the women must be about something besides men.\n",
    "\n",
    "Seems easy enough, right? We will explore just how simple an expectation this is throughout the tutorial. \n",
    "\n",
    "Specifically, I will be investigating three questions:\n",
    "\n",
    "1. How many films pass the Bechdel test per year? \n",
    "2. How has this ratio changed over time?\n",
    "3. How do films passing the Bechdel Test perform in comparison to those who don't?\n",
    "\n",
    "By the end of this tutorial, I hope to gain perspective  on the reality of female representation in film, as well as the public perception of female representation in film. "
   ]
  },
  {
   "cell_type": "markdown",
   "id": "555cbe94-8e69-4f4a-a54e-1eba58d83729",
   "metadata": {
    "tags": []
   },
   "source": [
    "### Step 1\n",
    "#### Data collection/curation + parsing\n",
    "\n",
    "http://Bechdeltest.com provides an up-to-date and easy to access list of movies that do or don't pass the test. On the website, there is a link to add new movies and one can suggest a re-rating of a movie by leaving a comment on the movie page. Using the API (documentation can be found at https://bechdeltest.com/api/v1/doc) one can query the list. All calls will look like http://bechdeltest.com/api/v1/method?params where the methods and necessary parameters are given in the documentation. \n",
    "\n",
    "The website provides four methods to query the list: getMovieByimdbId, getMoviesByTitle, getAllMovieIds, getAllMovies. I will be using getAllMovies as I will be working with the all of the features. The query returns a JSON object containing the following information about each movie: year, rating, title, ID, and imdb ID.\n",
    "\n",
    "Thus, I can use Python's requests and json modules to extract the object. Using pandas, I can then store the JSON contents in a dataframe. \n",
    "\n",
    "More on this technique can be found at https://towardsdatascience.com/how-to-convert-json-into-a-pandas-dataframe-100b2ae1e0d8."
   ]
  },
  {
   "cell_type": "code",
   "execution_count": 508,
   "id": "e0d58a69-0b03-4ec5-bdf8-2537ae617828",
   "metadata": {},
   "outputs": [
    {
     "data": {
      "text/html": [
       "<div>\n",
       "<style scoped>\n",
       "    .dataframe tbody tr th:only-of-type {\n",
       "        vertical-align: middle;\n",
       "    }\n",
       "\n",
       "    .dataframe tbody tr th {\n",
       "        vertical-align: top;\n",
       "    }\n",
       "\n",
       "    .dataframe thead th {\n",
       "        text-align: right;\n",
       "    }\n",
       "</style>\n",
       "<table border=\"1\" class=\"dataframe\">\n",
       "  <thead>\n",
       "    <tr style=\"text-align: right;\">\n",
       "      <th></th>\n",
       "      <th>rating</th>\n",
       "      <th>year</th>\n",
       "      <th>imdbid</th>\n",
       "      <th>id</th>\n",
       "      <th>title</th>\n",
       "    </tr>\n",
       "  </thead>\n",
       "  <tbody>\n",
       "    <tr>\n",
       "      <th>0</th>\n",
       "      <td>0</td>\n",
       "      <td>1874</td>\n",
       "      <td>3155794</td>\n",
       "      <td>9602</td>\n",
       "      <td>Passage de Venus</td>\n",
       "    </tr>\n",
       "    <tr>\n",
       "      <th>1</th>\n",
       "      <td>0</td>\n",
       "      <td>1877</td>\n",
       "      <td>14495706</td>\n",
       "      <td>9804</td>\n",
       "      <td>La Rosace Magique</td>\n",
       "    </tr>\n",
       "    <tr>\n",
       "      <th>2</th>\n",
       "      <td>0</td>\n",
       "      <td>1878</td>\n",
       "      <td>2221420</td>\n",
       "      <td>9603</td>\n",
       "      <td>Sallie Gardner at a Gallop</td>\n",
       "    </tr>\n",
       "    <tr>\n",
       "      <th>3</th>\n",
       "      <td>0</td>\n",
       "      <td>1878</td>\n",
       "      <td>12592084</td>\n",
       "      <td>9806</td>\n",
       "      <td>Le singe musicien</td>\n",
       "    </tr>\n",
       "    <tr>\n",
       "      <th>4</th>\n",
       "      <td>0</td>\n",
       "      <td>1881</td>\n",
       "      <td>7816420</td>\n",
       "      <td>9816</td>\n",
       "      <td>Athlete Swinging a Pick</td>\n",
       "    </tr>\n",
       "  </tbody>\n",
       "</table>\n",
       "</div>"
      ],
      "text/plain": [
       "   rating  year    imdbid    id                       title\n",
       "0       0  1874   3155794  9602            Passage de Venus\n",
       "1       0  1877  14495706  9804           La Rosace Magique\n",
       "2       0  1878   2221420  9603  Sallie Gardner at a Gallop\n",
       "3       0  1878  12592084  9806           Le singe musicien\n",
       "4       0  1881   7816420  9816     Athlete Swinging a Pick"
      ]
     },
     "execution_count": 508,
     "metadata": {},
     "output_type": "execute_result"
    }
   ],
   "source": [
    "import requests\n",
    "import json\n",
    "import pandas as pd\n",
    "import matplotlib.pyplot as plt\n",
    "import numpy as np\n",
    "from matplotlib.ticker import FormatStrFormatter     \n",
    "import statsmodels.api as sm\n",
    "\n",
    "\n",
    "# requests data for all movies in list\n",
    "response_API = requests.get('https://bechdeltest.com/api/v1/getAllMovies?')\n",
    "\n",
    "# accesses text of response\n",
    "data = response_API.text\n",
    "\n",
    "# loads data into json format\n",
    "json = json.loads(data)\n",
    "\n",
    "# converts json into dataframe\n",
    "df_BT = pd.DataFrame(json)\n",
    "   \n",
    "df_BT.head()"
   ]
  },
  {
   "cell_type": "markdown",
   "id": "4ae6271f-5c9f-4b43-8fa5-28fbffb16420",
   "metadata": {},
   "source": [
    "In order to address my third question, 'How do films passing the Bechdel Test perform in comparison to those who don't?', I need access to a dataset containing profits of all the movies. \n",
    "\n",
    "After an extensive search for such a dataset, Kaggle proved to be a great resource. The Movies Dataset (https://www.kaggle.com/datasets/rounakbanik/the-movies-dataset?resource=download) provided by Rounak Bounik provides metadata on over 45,000 movies listed in the MovieLens dataset (https://grouplens.org/datasets/movielens/), as well as 26 million ratings from over 270,000 users. It is important to note that this dataset only contains movies released on or before July 2017, so I will have to filter accordingly. \n",
    "\n",
    "The main Movies Metadata file contains posters, backdrops, budget, revenue, release dates, languages, production countries and companies on these movies. For this tutorial, I am only interested in imdb IDs, titles, release date, and revenues. \n",
    "\n",
    "One can quickly download this dataset as a CSV file from the website . From here is it easy to use Python's Pandas module to store the data in a dataframe.\n",
    "\n",
    "More on this technique can be found at https://www.geeksforgeeks.org/python-read-csv-using-pandas-read_csv/. "
   ]
  },
  {
   "cell_type": "code",
   "execution_count": 509,
   "id": "6d929709-c8f5-44be-8c96-111a9f5e894c",
   "metadata": {},
   "outputs": [
    {
     "data": {
      "text/html": [
       "<div>\n",
       "<style scoped>\n",
       "    .dataframe tbody tr th:only-of-type {\n",
       "        vertical-align: middle;\n",
       "    }\n",
       "\n",
       "    .dataframe tbody tr th {\n",
       "        vertical-align: top;\n",
       "    }\n",
       "\n",
       "    .dataframe thead th {\n",
       "        text-align: right;\n",
       "    }\n",
       "</style>\n",
       "<table border=\"1\" class=\"dataframe\">\n",
       "  <thead>\n",
       "    <tr style=\"text-align: right;\">\n",
       "      <th></th>\n",
       "      <th>imdb_id</th>\n",
       "      <th>release_date</th>\n",
       "      <th>revenue</th>\n",
       "      <th>title</th>\n",
       "    </tr>\n",
       "  </thead>\n",
       "  <tbody>\n",
       "    <tr>\n",
       "      <th>0</th>\n",
       "      <td>tt0114709</td>\n",
       "      <td>1995-10-30</td>\n",
       "      <td>373554033.0</td>\n",
       "      <td>Toy Story</td>\n",
       "    </tr>\n",
       "    <tr>\n",
       "      <th>1</th>\n",
       "      <td>tt0113497</td>\n",
       "      <td>1995-12-15</td>\n",
       "      <td>262797249.0</td>\n",
       "      <td>Jumanji</td>\n",
       "    </tr>\n",
       "    <tr>\n",
       "      <th>2</th>\n",
       "      <td>tt0113228</td>\n",
       "      <td>1995-12-22</td>\n",
       "      <td>0.0</td>\n",
       "      <td>Grumpier Old Men</td>\n",
       "    </tr>\n",
       "    <tr>\n",
       "      <th>3</th>\n",
       "      <td>tt0114885</td>\n",
       "      <td>1995-12-22</td>\n",
       "      <td>81452156.0</td>\n",
       "      <td>Waiting to Exhale</td>\n",
       "    </tr>\n",
       "    <tr>\n",
       "      <th>4</th>\n",
       "      <td>tt0113041</td>\n",
       "      <td>1995-02-10</td>\n",
       "      <td>76578911.0</td>\n",
       "      <td>Father of the Bride Part II</td>\n",
       "    </tr>\n",
       "  </tbody>\n",
       "</table>\n",
       "</div>"
      ],
      "text/plain": [
       "     imdb_id release_date      revenue                        title\n",
       "0  tt0114709   1995-10-30  373554033.0                    Toy Story\n",
       "1  tt0113497   1995-12-15  262797249.0                      Jumanji\n",
       "2  tt0113228   1995-12-22          0.0             Grumpier Old Men\n",
       "3  tt0114885   1995-12-22   81452156.0            Waiting to Exhale\n",
       "4  tt0113041   1995-02-10   76578911.0  Father of the Bride Part II"
      ]
     },
     "execution_count": 509,
     "metadata": {},
     "output_type": "execute_result"
    }
   ],
   "source": [
    "# reads in csv containing performance data \n",
    "df_per = pd.read_csv('movies_metadata.csv', usecols= ['imdb_id', 'title', 'release_date', 'revenue'])\n",
    "\n",
    "df_per.head()"
   ]
  },
  {
   "cell_type": "markdown",
   "id": "b4460b2f-444d-4371-9398-a16276126de1",
   "metadata": {},
   "source": [
    "### Step 2\n",
    "#### Data Management and Representation\n",
    "\n",
    "It is important to prepare and tidy datasets so that they can be used to perform data analysis with ease. Currently, both dataframes consist of thousands of rows. We will see throughout this step that not all rows will be useable for either dataset. \n",
    "\n",
    "My first question, 'How many films pass the Bechdel test per year?', requires the computation of ratios of BT passing films to total films for each year. Thus, I need to separate the dataset by year and then compute the number of films that received a score of 3 on the BT. Dividing this number by the total number of films released for the year will return the ratio I am looking for. \n",
    "\n",
    "Further, I will be filtering out any movies released before the 21st century as most of those movies received a 0 on the BT and I would like my findings to be current. \n",
    "\n",
    "More on filtering based on conditions can be found at https://www.geeksforgeeks.org/selecting-rows-in-pandas-dataframe-based-on-conditions/. \n",
    "\n",
    "More on grouping dataframes can be found at https://realpython.com/pandas-groupby/. "
   ]
  },
  {
   "cell_type": "code",
   "execution_count": 510,
   "id": "bef0ab06-161d-44ef-95ad-d6a93a83b5ad",
   "metadata": {},
   "outputs": [
    {
     "data": {
      "text/html": [
       "<div>\n",
       "<style scoped>\n",
       "    .dataframe tbody tr th:only-of-type {\n",
       "        vertical-align: middle;\n",
       "    }\n",
       "\n",
       "    .dataframe tbody tr th {\n",
       "        vertical-align: top;\n",
       "    }\n",
       "\n",
       "    .dataframe thead th {\n",
       "        text-align: right;\n",
       "    }\n",
       "</style>\n",
       "<table border=\"1\" class=\"dataframe\">\n",
       "  <thead>\n",
       "    <tr style=\"text-align: right;\">\n",
       "      <th></th>\n",
       "      <th>Year</th>\n",
       "      <th>Passed Films (P)</th>\n",
       "      <th>Total Films (T)</th>\n",
       "      <th>Ratio (P/T)</th>\n",
       "    </tr>\n",
       "  </thead>\n",
       "  <tbody>\n",
       "    <tr>\n",
       "      <th>0</th>\n",
       "      <td>2000</td>\n",
       "      <td>96</td>\n",
       "      <td>157</td>\n",
       "      <td>0.611465</td>\n",
       "    </tr>\n",
       "    <tr>\n",
       "      <th>1</th>\n",
       "      <td>2001</td>\n",
       "      <td>112</td>\n",
       "      <td>179</td>\n",
       "      <td>0.625698</td>\n",
       "    </tr>\n",
       "    <tr>\n",
       "      <th>2</th>\n",
       "      <td>2002</td>\n",
       "      <td>106</td>\n",
       "      <td>191</td>\n",
       "      <td>0.554974</td>\n",
       "    </tr>\n",
       "    <tr>\n",
       "      <th>3</th>\n",
       "      <td>2003</td>\n",
       "      <td>104</td>\n",
       "      <td>173</td>\n",
       "      <td>0.601156</td>\n",
       "    </tr>\n",
       "    <tr>\n",
       "      <th>4</th>\n",
       "      <td>2004</td>\n",
       "      <td>127</td>\n",
       "      <td>206</td>\n",
       "      <td>0.616505</td>\n",
       "    </tr>\n",
       "  </tbody>\n",
       "</table>\n",
       "</div>"
      ],
      "text/plain": [
       "   Year  Passed Films (P)  Total Films (T)  Ratio (P/T)\n",
       "0  2000                96              157     0.611465\n",
       "1  2001               112              179     0.625698\n",
       "2  2002               106              191     0.554974\n",
       "3  2003               104              173     0.601156\n",
       "4  2004               127              206     0.616505"
      ]
     },
     "execution_count": 510,
     "metadata": {},
     "output_type": "execute_result"
    }
   ],
   "source": [
    "# lists to store necessary components of entire dataframe:\n",
    "\n",
    "# list of all present years\n",
    "years = []\n",
    "\n",
    "# list of total number of films released per year \n",
    "total = []\n",
    "\n",
    "# list of number of BT-passing films released per year \n",
    "passed = []\n",
    "\n",
    "# list of computed ratios per year\n",
    "ratios = []\n",
    "\n",
    "# dataframe to visualize all the previous lists \n",
    "ratios_df = pd.DataFrame()\n",
    "\n",
    "# filters out movies released before 21st century \n",
    "df_BT = df_BT[df_BT['year'] >= 2000]\n",
    "\n",
    "\n",
    "# computes ratio of films which passed Bechdel Test per year \n",
    "# stores years, ratios, total number of films, and number of films which passed Bechdel test (rating = 3) in respective lists \n",
    "for name, group in df_BT.groupby('year'):\n",
    "    tot_pass = len(group[(group['rating']==3)])\n",
    "    tot_len = len(group['rating'])\n",
    "    years.append(name)\n",
    "    ratios.append(tot_pass/tot_len)\n",
    "    total.append(tot_len)\n",
    "    passed.append(tot_pass)\n",
    "\n",
    "\n",
    "# combines data into one dataframe \n",
    "ratios_df['Year'] = years\n",
    "ratios_df['Passed Films (P)'] = passed\n",
    "ratios_df['Total Films (T)'] = total\n",
    "ratios_df['Ratio (P/T)'] = ratios\n",
    "\n",
    "ratios_df.head()"
   ]
  },
  {
   "cell_type": "markdown",
   "id": "f44b8d0e-b15b-4f54-b67c-bbe8d0134b36",
   "metadata": {},
   "source": [
    "Here, we can observe the frequency of all films, BT passing films, and the ratio. "
   ]
  },
  {
   "cell_type": "markdown",
   "id": "1f8ba2e6-8748-4c85-a87c-c17cbe8cc8ce",
   "metadata": {},
   "source": [
    "Next, I need to adequately prepare the dataset containing movie revenues and ratings.\n",
    "\n",
    "Observe that the 'year' column of the BT dataset contains only the year (YYYY) that the film was released whereas the performance dataset has the full release date (YYYY-MM-DD). Further, the performance dataset has the imdb IDs listed with 'tt' prefixed. I need to adjust the datasets as necessary so that these columns have matching formats. Otherwise, it will be very difficult to compare the same movies/years. \n",
    "\n",
    "More on string slicing can be found at https://www.w3schools.com/python/gloss_python_string_slice.asp. "
   ]
  },
  {
   "cell_type": "code",
   "execution_count": 511,
   "id": "09801926-c9b5-4d4b-9640-2936eee3165f",
   "metadata": {},
   "outputs": [],
   "source": [
    "# modifies dates to only show years and imdb ID's to match format of performance DF\n",
    "df_per['release_date'] = df_per['release_date'].str[:4]\n",
    "df_per['imdb_id'] = df_per['imdb_id'].str[2:]"
   ]
  },
  {
   "cell_type": "markdown",
   "id": "da55f54f-5e62-47a4-8f03-c6ca722df173",
   "metadata": {},
   "source": [
    "It is crucial to handle missing data accordingly. Empty or missing values might skew data and/or raise errors. First, I replace empty values in the imdb column with NaN. I then drop any rows in both datasets containing Nan values.\n",
    "\n",
    "More on handling missing data can be found at https://machinelearningmastery.com/handle-missing-data-python/. \n",
    "\n",
    "Once again, for the performance dataset I filter out movies before the 21st century. "
   ]
  },
  {
   "cell_type": "code",
   "execution_count": 512,
   "id": "45875c4f-ec37-47df-91c0-56e22cdcbaf9",
   "metadata": {},
   "outputs": [],
   "source": [
    "# gets rid of all empty values \n",
    "df_BT['imdbid'].replace('', np.nan, inplace=True)\n",
    "df_per['imdb_id'].replace('', np.nan, inplace=True)\n",
    "\n",
    "df_BT = df_BT.dropna()\n",
    "df_per = df_per.dropna()\n",
    "\n",
    "# filters out movies before 21st century \n",
    "df_per['year'] = df_per['release_date'].astype(int)\n",
    "df_per = df_per[df_per['year'] >= 2000]"
   ]
  },
  {
   "cell_type": "markdown",
   "id": "27480d16-2ad4-4b31-ba10-dcb73ce02527",
   "metadata": {},
   "source": [
    "In order to visualize how movies perform based on BT score, I need to append the revenue column to our BT dataset. This proved to be a bit difficult. "
   ]
  },
  {
   "cell_type": "markdown",
   "id": "84c1c50b-0126-4f9f-99f0-729e1e4a9e8a",
   "metadata": {},
   "source": [
    "I first found the intersection of the two imdb ID columns and filtered out the movies in either dataset that were not contained in this intersection. However, the new imdb ID columns were still not identical (or even of the same length) so I hoped duplicate rows were the issue. While dropping duplicates solved the problem for the revenue data, the Bechdel data was still not identical. \n",
    "\n",
    "More on using np.intersect1d can be found at https://numpy.org/doc/stable/reference/generated/numpy.intersect1d.html. \n",
    "\n",
    "Note that I also sort the columns by imdb IDs so that I can later combine the datasets on this index. "
   ]
  },
  {
   "cell_type": "code",
   "execution_count": 513,
   "id": "1b182624-64ac-4c3c-87fe-a0638514d4d4",
   "metadata": {},
   "outputs": [
    {
     "name": "stdout",
     "output_type": "stream",
     "text": [
      "False\n"
     ]
    }
   ],
   "source": [
    "# finds intersection of movies in lists \n",
    "movie_ids = np.intersect1d(df_BT['imdbid'], df_per['imdb_id'], assume_unique=False, return_indices=False)\n",
    "\n",
    "# filters out movies that are not contained in the intersection and sorts values by imdb ID\n",
    "df_per = (df_per.loc[df_per['imdb_id'].isin(movie_ids)]).sort_values(by=['imdb_id'])\n",
    "df_BT = (df_BT.loc[df_BT['imdbid'].isin(df_per['imdb_id'])]).sort_values(by=['imdbid'])\n",
    "\n",
    "df_BT = df_BT.drop_duplicates()\n",
    "df_per = df_per.drop_duplicates()\n",
    "\n",
    "\n",
    "print(len(df_BT['imdbid']) == len(df_per['imdb_id']))"
   ]
  },
  {
   "cell_type": "markdown",
   "id": "1afc33d4-056c-4a3d-b823-0603b2afefc9",
   "metadata": {},
   "source": [
    "I realized after some thought that it was possible that the BT dataset contained duplicate imdb ID's but because the entire rows were not exactly the same, drop_duplicates() was not catching those. So, I decided the simplest solution would be to manually find the rows containing imdb ID duplicates and drop them. "
   ]
  },
  {
   "cell_type": "code",
   "execution_count": 514,
   "id": "a511227f-66ab-4553-b8ab-67a8820d5c20",
   "metadata": {},
   "outputs": [
    {
     "name": "stdout",
     "output_type": "stream",
     "text": [
      "6517\n",
      "7167\n"
     ]
    }
   ],
   "source": [
    "# list of see indices \n",
    "list_ids = []\n",
    "\n",
    "# if an ID has already been seen, I print the index  \n",
    "# if an ID has not been seen, I add the ID to list_ids\n",
    "for index, row in df_BT.iterrows():\n",
    "    if row['imdbid'] in list_ids:\n",
    "        print(index)\n",
    "    else:\n",
    "        list_ids.append(row['imdbid'])"
   ]
  },
  {
   "cell_type": "code",
   "execution_count": 515,
   "id": "4032bc7f-68bd-44f7-b2ee-103902dc4441",
   "metadata": {},
   "outputs": [],
   "source": [
    "# drop rows containing duplicate IDs\n",
    "df_BT = df_BT.drop(index = [6517, 7167])"
   ]
  },
  {
   "cell_type": "markdown",
   "id": "8424677b-8c28-43af-813a-32744251a5b1",
   "metadata": {},
   "source": [
    "I am almost complete with the data processing. \n",
    "\n",
    "Next, I append the revenue column to my BT dataset."
   ]
  },
  {
   "cell_type": "code",
   "execution_count": 516,
   "id": "2eacbdc3-75bf-4a59-ad84-63ecabe5b46e",
   "metadata": {},
   "outputs": [],
   "source": [
    "# reset to 0-indexing so indices between the two dfs match to avoid errors. \n",
    "df_BT.reset_index(drop=True)\n",
    "df_per.reset_index(drop=True)\n",
    "\n",
    "df_BT['revenue'] = df_per['revenue']"
   ]
  },
  {
   "cell_type": "markdown",
   "id": "42369ad1-302f-4e24-8e9a-3a4f7619be41",
   "metadata": {},
   "source": [
    "To confirm that the revenue matches with the correct imdb ID, I need to make sure that the imdb ID columns are actually identical. Python's Numpy module has a handy function (numpy.array_equal) to assure this."
   ]
  },
  {
   "cell_type": "code",
   "execution_count": 517,
   "id": "cf2ad9fe-f752-404e-b6d7-ee091701d763",
   "metadata": {},
   "outputs": [
    {
     "name": "stdout",
     "output_type": "stream",
     "text": [
      "True\n"
     ]
    }
   ],
   "source": [
    "# access imdb ID columns and ensures both are of the same type for comparison\n",
    "d1 = df_BT['imdbid'].astype(int).to_numpy()\n",
    "d2 = df_per['imdb_id'].astype(int).to_numpy()\n",
    "\n",
    "# compares arrays \n",
    "print(np.array_equal(d1, d2))"
   ]
  },
  {
   "cell_type": "markdown",
   "id": "acca2c11-aa17-4f13-abaa-18dea1b1ade4",
   "metadata": {},
   "source": [
    "Now, we can compute the average film revenue for each BT rating. "
   ]
  },
  {
   "cell_type": "code",
   "execution_count": 518,
   "id": "ffac1e7a-bebd-461f-94a0-6173ab593925",
   "metadata": {},
   "outputs": [
    {
     "name": "stdout",
     "output_type": "stream",
     "text": [
      "[108407717.375, 109120133.6124031, 97028011.38095239, 94366508.82335329]\n"
     ]
    }
   ],
   "source": [
    "# list to store average revenues per rating\n",
    "avg_rev = []\n",
    "\n",
    "# splits BT dataframe by rating, computes average revenue, appends to avg_rev\n",
    "for name, group in df_BT.groupby('rating'):\n",
    "    avg_rev.append(group['revenue'].mean())\n",
    "\n",
    "print(avg_rev)"
   ]
  },
  {
   "cell_type": "markdown",
   "id": "7e7c9d15-bf21-4112-a7d5-b37e9daddc56",
   "metadata": {},
   "source": [
    "### Step 3\n",
    "#### Exploratory data analysis\n",
    "\n",
    "In this step, I will visualize the questions I highlighted in the introduction, and will perform data analysis to come to answers.  \n",
    "\n",
    "In order to visualize my first question, 'How many films pass the Bechdel test per year?', I will plot the frequency of all films and films which passed the BT in a bar graph. While this comparison can be made using many different types of plots, bar graphs are primarily used for comparisons between groups, particularly  over time (NCES, 2022). Thus, I concluded that a bar graph would best communicate how these frequencies compare. \n",
    "\n",
    "More on grouped box charts can be found at https://matplotlib.org/3.5.0/gallery/lines_bars_and_markers/barchart.html#sphx-glr-gallery-lines-bars-and-markers-barchart-py. "
   ]
  },
  {
   "cell_type": "code",
   "execution_count": 519,
   "id": "6fcbc3ca-0764-4157-8e44-9c5a7cffc4ac",
   "metadata": {},
   "outputs": [
    {
     "data": {
      "text/plain": [
       "Text(0.5, 1.0, 'Number of Films that Passed Bechdel Test Compared to Total Number of Films Per Year')"
      ]
     },
     "execution_count": 519,
     "metadata": {},
     "output_type": "execute_result"
    },
    {
     "data": {
      "image/png": "[encoded data removed]",
      "text/plain": [
       "<Figure size 432x288 with 1 Axes>"
      ]
     },
     "metadata": {
      "needs_background": "light"
     },
     "output_type": "display_data"
    }
   ],
   "source": [
    "# creates a two-variable bar plot which visualizes how often films have passed the \n",
    "# Bechdel Test throughout the 21st century \n",
    "fig = plt.figure()\n",
    "ax = fig.add_axes([0, 0, 1, 1])\n",
    "\n",
    "# adds frequency of passed films and total films to plot \n",
    "ax.bar(ratios_df['Year'], ratios_df['Passed Films (P)'], color = 'b', width = 0.6)\n",
    "ax.bar(ratios_df['Year'] + 0.6, ratios_df['Total Films (T)'], color = 'g', width = 0.6)\n",
    "\n",
    "# necessary axis, legend, and title labels\n",
    "ax.set_xlabel('Year')\n",
    "ax.set_ylabel('Frequency')\n",
    "\n",
    "ax.legend(labels=['# Films that passed Bechdel Test', 'Total # of films released'])\n",
    "ax.set_title('Number of Films that Passed Bechdel Test Compared to Total Number of Films Per Year')"
   ]
  },
  {
   "cell_type": "markdown",
   "id": "56bf7fb1-fc59-47d5-92bc-01c6723bcf55",
   "metadata": {},
   "source": [
    "As seen in this graph, the number of films which pass the Bechdel Test per year is consistently and significantly less than the total amount of films released. "
   ]
  },
  {
   "cell_type": "markdown",
   "id": "63066ffb-ae81-4e16-a6ed-6a4ec7dbad65",
   "metadata": {},
   "source": [
    "Now, I am interested in my second question, 'How has this ratio changed over time?', for which I will be making a scatter plot. Scatter plots are ideal for tracking smaller-scale changes over time (NCES, 2022). I can deduce from my raw data and the above bar graph that the ratios do not change dramatically over time, so a scatter plot is perfect for this scenario. Further, adding a line of best fit will best help address how the ratio has or has not improved over the 21st century. \n",
    "\n",
    "More on plotting lines of best fit can be found at https://www.statology.org/line-of-best-fit-python/. "
   ]
  },
  {
   "cell_type": "code",
   "execution_count": 520,
   "id": "2a6c5e82-c01a-4d40-9de9-85a89f099070",
   "metadata": {},
   "outputs": [
    {
     "data": {
      "image/png": "[encoded data removed]",
      "text/plain": [
       "<Figure size 432x288 with 1 Axes>"
      ]
     },
     "metadata": {
      "needs_background": "light"
     },
     "output_type": "display_data"
    },
    {
     "name": "stdout",
     "output_type": "stream",
     "text": [
      "Average Ratio: 0.6320283175607141\n",
      "Slope of Line of Best Fit: 0.005413905408588168\n"
     ]
    }
   ],
   "source": [
    "# stores x and y axis data \n",
    "x = ratios_df['Year']\n",
    "y = ratios_df['Ratio (P/T)']\n",
    "\n",
    "# finds line of best fit\n",
    "m, b = np.polyfit(x, y, 1)\n",
    "\n",
    "# creates scatter plot of ratio of movies passing test over time with line of best fit \n",
    "plt.scatter(x, y)\n",
    "\n",
    "# adds line of best fit to plot\n",
    "plt.plot(x, m*x+b)\n",
    "\n",
    "# necessary labels \n",
    "plt.title(\"# Passed Movies / Total # Movies over Time\")\n",
    "plt.xlabel(\"Year\")\n",
    "plt.ylabel(\"# Passed Movies / Total # Movies\")\n",
    "\n",
    "plt.show()\n",
    "\n",
    "# Prints the average ratio of films which passed Bechdel Test in 21st century \n",
    "print(\"Average Ratio: \" + str(ratios_df['Ratio (P/T)'].mean()))\n",
    "\n",
    "# Prints slope of line of best fit \n",
    "print(\"Slope of Line of Best Fit: \" + str(m))"
   ]
  },
  {
   "cell_type": "markdown",
   "id": "b1a84a5e-7193-4364-96c3-631218b2e0d8",
   "metadata": {},
   "source": [
    "As seen above, the slope of the line of best fit is very small (< 0.006), supporting my previous statement that the ratios have not improved significantly over time. Furthermore, the ratios appear to be concentrated in the (0.6, 0.65) range, which is reinforced by the fact that the average ratio over the 21st century is approximately 0.632. \n",
    "\n",
    "However, despite the fact that the slope is small, it is still positive. This means that the amount of films passing the Bechdel Test in comparison to total released films per year is increasing -- a promising result for established and aspiring female actors. "
   ]
  },
  {
   "cell_type": "markdown",
   "id": "5c3c29b1-c8c4-40de-a86d-9bae409bc75a",
   "metadata": {},
   "source": [
    "Now we will answer my third question, 'How do films passing the Bechdel Test perform in comparison to those who don't?'. \n",
    "\n",
    "In order to visualize this answer, I will again be making a box plot that will have each possible Bechdel Test score ([0, 1, 2, 3]) on the x-axis with the corresponding average revenue on the y-axis. Because there are so few values on the x-axis, I deduced that a box plot would again be the most efficient way to visualize this comparison. "
   ]
  },
  {
   "cell_type": "code",
   "execution_count": 521,
   "id": "f180771e-4c53-4938-9c21-a6995f74cd9c",
   "metadata": {},
   "outputs": [
    {
     "name": "stdout",
     "output_type": "stream",
     "text": [
      "10485445.299431875\n"
     ]
    },
    {
     "data": {
      "image/png": "[encoded data removed]",
      "text/plain": [
       "<Figure size 432x288 with 1 Axes>"
      ]
     },
     "metadata": {
      "needs_background": "light"
     },
     "output_type": "display_data"
    }
   ],
   "source": [
    "# creates box plot\n",
    "fig = plt.figure()\n",
    "ax = fig.add_axes([0, 0, 1, 1])\n",
    "\n",
    "# plots corresponding average revenues to rating \n",
    "ax.bar([0, 1, 2, 3], avg_rev, color = 'g', width = 0.7)\n",
    "\n",
    "# necessary labels \n",
    "ax.set_xlabel('Bechdel Test Rating')\n",
    "ax.set_ylabel('Average Revenue')\n",
    "ax.set_title('Average Revenue per Bechdel Test Score')\n",
    "\n",
    "# prints difference of average revenue of non-BT-passing films and passing films. \n",
    "print(((avg_rev[0] +avg_rev[1] + avg_rev[2])/3)- avg_rev[3])\n"
   ]
  },
  {
   "cell_type": "markdown",
   "id": "0db5e8c6-7e86-4bfe-bb14-95f64d1bf34c",
   "metadata": {},
   "source": [
    "While the difference does not appear stark in this graph, it is clear that as a movie gets closer to passing the Bechdel Test, it draws in less revenue. \n",
    "In fact, as seen by my calculation, on average non BT passing (rating of < 3) movies earned roughly $10485445.30 more in revenue than movies who did pass. "
   ]
  },
  {
   "cell_type": "markdown",
   "id": "683a60e4-d049-4ba8-ba6a-02a83adc7f84",
   "metadata": {},
   "source": [
    "### Step 4 \n",
    "#### Hypothesis testing... When will the gap close?\n",
    "\n",
    "In this step, I will be revisiting my second question, 'How has this ratio changed over time?\". Specifically, I want to predict when the ratio will be 1, meaning that all of the films released in a year will pass the Bechdel Test. \n",
    "However, if there does not exist a linear relationship between time and ratio, this will be difficult to calculate. We will confirm or deny the existence  of such a relationship through the use of hypothesis testing. \n",
    "\n",
    "My hypothesis will consist of the following:\n",
    "\n",
    "##### Null Hypothesis: there does not exist a linear relationship between time and ratio. \n",
    "##### Alternate Hypothesis: there does exist a linear relationship between time and ratio. \n",
    "\n",
    "\n",
    "First, I would like to briefly revisit the scatter plot of ratios over time. Based on the line of best fit one might predict that there is in fact a linear relationship. But you can never be too sure. "
   ]
  },
  {
   "cell_type": "code",
   "execution_count": 522,
   "id": "730cf055-19f9-4052-b90c-99175aead242",
   "metadata": {},
   "outputs": [
    {
     "data": {
      "image/png": "[encoded data removed]",
      "text/plain": [
       "<Figure size 432x288 with 1 Axes>"
      ]
     },
     "metadata": {
      "needs_background": "light"
     },
     "output_type": "display_data"
    }
   ],
   "source": [
    "# creates scatter plot of ratio of movies passing test over time with line of best fit \n",
    "plt.scatter(x, y)\n",
    "\n",
    "#add line of best fit to plot\n",
    "plt.plot(x, m*x+b)\n",
    "\n",
    "plt.title(\"# Passed Movies / Total # Movies over Time\")\n",
    "plt.xlabel(\"Year\")\n",
    "plt.ylabel(\"# Passed Movies / Total # Movies\")\n",
    "\n",
    "plt.show()"
   ]
  },
  {
   "cell_type": "markdown",
   "id": "62cd4f0d-d2f4-49c1-a812-3990496baf63",
   "metadata": {},
   "source": [
    "In order to test my hypothesis, I will be using Python's statsmodels.api module. statsmodels allows users to estimate many different statistical models and conduct statistical tests as well as data exploration. A user-friendly introduction can be found at https://www.statsmodels.org/stable/index.html.\n",
    "\n",
    "Python provides many other tools for hypothesis testing as well such as scipy (https://machinelearningmastery.com/statistical-hypothesis-tests-in-python-cheat-sheet/). However, I chose to work with this module because I am most familiar with it and I find it to be very easy to use, as will be exemplified below. \n",
    "\n",
    "Further, I am specifically using Ordinary Least Squares regression which is a common and simple technique for estimating linear regression models.  \n",
    "\n",
    "More on this technique can be found at https://www.geeksforgeeks.org/ordinary-least-squares-ols-using-statsmodels/. "
   ]
  },
  {
   "cell_type": "code",
   "execution_count": 523,
   "id": "b863ede5-c900-4085-9f06-bce36f2d1b8a",
   "metadata": {},
   "outputs": [
    {
     "name": "stdout",
     "output_type": "stream",
     "text": [
      "                                 OLS Regression Results                                \n",
      "=======================================================================================\n",
      "Dep. Variable:            Ratio (P/T)   R-squared (uncentered):                   0.995\n",
      "Model:                            OLS   Adj. R-squared (uncentered):              0.994\n",
      "Method:                 Least Squares   F-statistic:                              4033.\n",
      "Date:                Mon, 16 May 2022   Prob (F-statistic):                    2.02e-26\n",
      "Time:                        22:47:16   Log-Likelihood:                          37.841\n",
      "No. Observations:                  23   AIC:                                     -73.68\n",
      "Df Residuals:                      22   BIC:                                     -72.55\n",
      "Df Model:                           1                                                  \n",
      "Covariance Type:            nonrobust                                                  \n",
      "==============================================================================\n",
      "                 coef    std err          t      P>|t|      [0.025      0.975]\n",
      "------------------------------------------------------------------------------\n",
      "Year           0.0003   4.95e-06     63.503      0.000       0.000       0.000\n",
      "==============================================================================\n",
      "Omnibus:                        4.219   Durbin-Watson:                   0.565\n",
      "Prob(Omnibus):                  0.121   Jarque-Bera (JB):                2.739\n",
      "Skew:                           0.833   Prob(JB):                        0.254\n",
      "Kurtosis:                       3.292   Cond. No.                         1.00\n",
      "==============================================================================\n",
      "\n",
      "Notes:\n",
      "[1] R² is computed without centering (uncentered) since the model does not contain a constant.\n",
      "[2] Standard Errors assume that the covariance matrix of the errors is correctly specified.\n"
     ]
    }
   ],
   "source": [
    "# uses OLS to gather p values\n",
    "fit = sm.OLS(y, x).fit()\n",
    "\n",
    "# prints summary of linear model findings \n",
    "print(fit.summary())\n"
   ]
  },
  {
   "cell_type": "markdown",
   "id": "43973cab-6ff8-423d-8168-80db4c1ab157",
   "metadata": {},
   "source": [
    "Observe that the calculated p-value is 0. This implies that the null hypothesis is rejected and we can confidently say that there is a relationship between time and ratio of BT passing movies to all movies. Using this fact, we can estimate when the ratio will reach 1. \n",
    "\n",
    "Using Numpy's handy linalg.solve function, we can solve the question of when this ratio will reach 1, i.e. all movies pass the Bechdel Test. "
   ]
  },
  {
   "cell_type": "code",
   "execution_count": 524,
   "id": "05ffadbb-eba2-45b5-8404-ae3abf5722c5",
   "metadata": {},
   "outputs": [
    {
     "name": "stdout",
     "output_type": "stream",
     "text": [
      "[2078.96788172]\n"
     ]
    }
   ],
   "source": [
    "print(np.linalg.solve([[m]], [1-b]))"
   ]
  },
  {
   "cell_type": "markdown",
   "id": "b6d4f8ef-80bd-448b-b65d-72ef7e581d37",
   "metadata": {},
   "source": [
    "According to this calculation, all movies released in or after 2079 will pass the Bechdel Test... a less promising result for established and aspiring actresses. "
   ]
  },
  {
   "cell_type": "markdown",
   "id": "e0b6cd9b-0098-4516-b28b-9593a9afb1d6",
   "metadata": {},
   "source": [
    "### Step 5\n",
    "#### Insights \n",
    "\n",
    "Being a young woman myself, I am not surprised that the number of films which pass the Bechdel test is less than outstanding. However, I learned a number of things from this study. \n",
    "\n",
    "Firstly, I had no idea the Bechdel Test existed. Honestly, I never paid much attention to the way women communicated in films. This gain of knowledge brought me many realizations. Films are made to portray real life, to some extent. Clearly, they have been failing at this. \n",
    "\n",
    "I find power, safety, respect, and acceptance amongst other women. The allegiance  between women is what has allowed us to break through so many barriers. Winning the rights to vote, to serve alongside men in the military, and to equal pay were not little feats, and would not have been made possible without each other's support. It's heart breaking to see that our allegiance  and mutual respect has been under-represented and undermined. I hope this tutorial sheds light to others as it did to me on the representation of women in film. Further, I hope this inspires others to join the fight for accurate portrayal of women in film, especially considering my second insight: \n",
    "#### The gap is not predicted to close until 2079. \n",
    "\n",
    "This is over 50 years from now. That is over 50 years of women not even speaking to each other in movies. This is unacceptable. I encourage all viewers of this tutorial to sign the following petition https://www.thepetitionsite.com/215/165/177/pass-the-bechdel-test/ so that the film industry might one day ensure all films pass the Bechdel Test. \n"
   ]
  }
 ],
 "metadata": {
  "kernelspec": {
   "display_name": "Python 3 (ipykernel)",
   "language": "python",
   "name": "python3"
  },
  "language_info": {
   "codemirror_mode": {
    "name": "ipython",
    "version": 3
   },
   "file_extension": ".py",
   "mimetype": "text/x-python",
   "name": "python",
   "nbconvert_exporter": "python",
   "pygments_lexer": "ipython3",
   "version": "3.9.7"
  }
 },
 "nbformat": 4,
 "nbformat_minor": 5
}
