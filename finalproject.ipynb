import numpy as np
import pandas as pd

import json

# Goal: Test whether more employment opportunities lead to less crime (in Maryland). 

# table of population changes across all MD counties (2010-2020)
df_MD_po = pd.read_csv('MD_pop.csv')

# table of crime rates across all MD counties (roughly 1975-2020)
df_MD_cr = pd.read_csv('MD_crimes.csv')

# table of employment/unemployment rates across all MD (2018)
df_MD_em = pd.read_csv('MD_employ.csv')


#print(df_MD_po)

#print(df_MD_cr)

print(df_MD_em)



